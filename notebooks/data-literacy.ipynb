{
 "cells": [
  {
   "attachments": {},
   "cell_type": "markdown",
   "metadata": {},
   "source": [
    "# Open AI ChatGPT Playground\n",
    "This notebook is for keeping track of interactions and conversations with ChatGPT and exploring its potential as a tool for skills and training.\n",
    "\n",
    "**Note**: the code and responses provided by ChatGPT are sometime split up or formatted as code blocks. This is not how ChatGPT presents its responses when interacting with it using the web client. However, it is presented this way in this notebook to allow the code to be executed and to improve readability of the text."
   ]
  },
  {
   "attachments": {},
   "cell_type": "markdown",
   "metadata": {},
   "source": [
    "## Simple Plot\n",
    "Let's start with a simple test and proof-of-concept. Here is a prompt asking ChatGPT to create a small dataset and plot the data:\n",
    "\n",
    "**User Prompt**\n",
    "\n",
    "> Generate Python code for creating plausible synthetic dataset containing the height (in centimetres) and age (in years) of 25 people. The 25 people should be male. Their age range should be between 25 and 50 years. Plot the data.\n",
    "\n",
    "**ChatGPT Response**\n",
    "\n",
    "> Here is Python code for creating a plausible synthetic dataset containing the height (in centimeters) and age (in years) of 25 male individuals in the age range of 25 to 50 years, and plotting the data on a scatterplot.\n",
    "\n",
    "And, here is the code it returns:"
   ]
  },
  {
   "cell_type": "code",
   "execution_count": 3,
   "metadata": {},
   "outputs": [
    {
     "data": {
      "image/png": "[encoded data removed]",
      "text/plain": [
       "<Figure size 640x480 with 1 Axes>"
      ]
     },
     "metadata": {},
     "output_type": "display_data"
    }
   ],
   "source": [
    "# Import required libraries\n",
    "import numpy as np\n",
    "import matplotlib.pyplot as plt\n",
    "\n",
    "# Set the age range and number of people\n",
    "age_min = 25\n",
    "age_max = 50\n",
    "num_people = 25\n",
    "\n",
    "# Generate a synthetic dataset of height and age\n",
    "# For simplicity, we will assume that all individuals are male\n",
    "# and use the average height and standard deviation of adult male heights in the US\n",
    "height_mean = 176.6 # cm\n",
    "height_std = 7.3 # cm\n",
    "height = np.random.normal(loc=height_mean, scale=height_std, size=num_people)\n",
    "age = np.random.uniform(age_min, age_max, size=num_people)\n",
    "\n",
    "# Plot the data on a scatterplot\n",
    "plt.scatter(age, height)\n",
    "plt.xlabel(\"Age (years)\")\n",
    "plt.ylabel(\"Height (centimeters)\")\n",
    "plt.show()\n"
   ]
  },
  {
   "attachments": {},
   "cell_type": "markdown",
   "metadata": {},
   "source": [
    "It is interesting to see how useful the comments are. \n",
    "\n",
    "What would it be like if we were a new user, pretending to have no knowledge of Python?\n",
    "\n",
    "## Conversation with learner\n",
    "\n",
    "**User Prompt** \n",
    "\n",
    "> I would like to learn Python using interactive code.\n",
    "\n",
    "**ChatGPT Response**\n",
    "\n",
    "> Sure, I'd be happy to help you get started with Python! Python is a popular programming language that is used for a wide variety of applications, including web development, data analysis, and scientific computing. It is easy to learn and has a friendly, expressive syntax that makes it a great language for beginners.\n",
    ">\n",
    "> To start writing and running Python code, you will need to install a Python interpreter on your computer. The Python website (https://www.python.org/) provides detailed instructions on how to download and install Python for different operating systems.\n",
    "> \n",
    "> Once you have installed Python, you can start a Python interpreter by typing python at the command prompt. This will bring you to the Python interpreter, where you can enter and run individual lines of Python code.\n",
    "> \n",
    "> Here is an example of a simple Python program that prints \"Hello, World!\" to the screen:\n",
    ">\n",
    ">\n",
    ">\n",
    "> ```python\n",
    "> # This is a Python comment.\n",
    "> # Comments are used to explain what the code does.\n",
    "> \n",
    "> # Print the string \"Hello, World!\" to the screen.\n",
    "> print(\"Hello, World!\")\n",
    "> ```\n",
    "> \n",
    "> To run this code, you can type it into the Python interpreter, or you can save it to a file with a .py extension and run it using the python command followed by the file name. For example, if you save the code to a file called hello_world.py, you can run it like this:\n",
    "> \n",
    "> ```bash\n",
    "> python hello_world.py\n",
    "> ```\n",
    "> \n",
    "> This will execute the code in the hello_world.py file and print \"Hello, World!\" to the screen.\n",
    "> \n",
    "> I hope this helps you get started with Python! If you have any further questions or would like more information, please don't hesitate to ask.\n",
    "\n",
    "**User**\n",
    "\n",
    "> Thanks. I have installed Python using your instructions. I have also installed VS code with the Python and Jupyter extensions. Please could you provide me an example of some code that would import a dataset from a remote source, and then analyse the data in an interesting way? \n",
    "\n",
    "**ChatGPT Response**\n",
    "\n",
    "> Sure, here is an example of Python code that imports a dataset from a remote source, using the pandas library, and then performs some basic data analysis on the dataset:"
   ]
  },
  {
   "cell_type": "code",
   "execution_count": 4,
   "metadata": {},
   "outputs": [
    {
     "name": "stdout",
     "output_type": "stream",
     "text": [
      "         Date      Country  Confirmed  Recovered  Deaths\n",
      "0  2020-01-22  Afghanistan          0          0       0\n",
      "1  2020-01-23  Afghanistan          0          0       0\n",
      "2  2020-01-24  Afghanistan          0          0       0\n",
      "3  2020-01-25  Afghanistan          0          0       0\n",
      "4  2020-01-26  Afghanistan          0          0       0\n",
      "Total cases: 118939403514\n",
      "Total deaths: 2261860890\n",
      "Total recoveries: 23491455947\n",
      "                          Confirmed     Recovered       Deaths\n",
      "Country                                                       \n",
      "Afghanistan            80921.207108  22414.068627  3522.180147\n",
      "Albania               100962.181373  27760.602941  1618.453431\n",
      "Algeria               116047.882353  31458.618873  3249.995098\n",
      "Andorra                11762.850490   3781.432598    93.001225\n",
      "Angola                 32384.308824   7225.245098   741.781863\n",
      "...                             ...           ...          ...\n",
      "West Bank and Gaza    229582.813725  70598.986520  2320.834559\n",
      "Winter Olympics 2022      48.427696      0.000000     0.000000\n",
      "Yemen                   4886.933824    946.687500   993.681373\n",
      "Zambia                107286.583333  26780.387255  1616.153186\n",
      "Zimbabwe               69051.731618  10758.621324  2002.193627\n",
      "\n",
      "[198 rows x 3 columns]\n"
     ]
    },
    {
     "name": "stderr",
     "output_type": "stream",
     "text": [
      "/var/folders/bk/cm_7fjr96ddd0pk46ypmbt440000gr/T/ipykernel_67442/173323098.py:31: FutureWarning: The default value of numeric_only in DataFrameGroupBy.mean is deprecated. In a future version, numeric_only will default to False. Either specify numeric_only or select only columns which should be valid for the function.\n",
      "  averages_by_country = data.groupby(\"Country\").mean()\n"
     ]
    }
   ],
   "source": [
    "# Import the pandas library.\n",
    "# This library provides tools for working with data in Python.\n",
    "import pandas as pd\n",
    "\n",
    "# Use the `read_csv` function from the pandas library to\n",
    "# download and read a CSV (comma-separated values) file\n",
    "# from a remote URL.\n",
    "url = \"https://raw.githubusercontent.com/datasets/covid-19/master/data/countries-aggregated.csv\"\n",
    "data = pd.read_csv(url)\n",
    "\n",
    "# Print the first few rows of the dataset to the screen,\n",
    "# using the `head` method.\n",
    "print(data.head())\n",
    "\n",
    "# Calculate the total number of confirmed cases,\n",
    "# deaths, and recoveries in the dataset, using the\n",
    "# `sum` method on the appropriate columns.\n",
    "total_cases = data[\"Confirmed\"].sum()\n",
    "total_deaths = data[\"Deaths\"].sum()\n",
    "total_recoveries = data[\"Recovered\"].sum()\n",
    "\n",
    "# Print the results to the screen.\n",
    "print(\"Total cases:\", total_cases)\n",
    "print(\"Total deaths:\", total_deaths)\n",
    "print(\"Total recoveries:\", total_recoveries)\n",
    "\n",
    "# Use the `groupby` method to group the data by country,\n",
    "# and the `mean` method to calculate the average number\n",
    "# of confirmed cases, deaths, and recoveries for each\n",
    "# country.\n",
    "averages_by_country = data.groupby(\"Country\").mean()\n",
    "\n",
    "# Print the results to the screen.\n",
    "print(averages_by_country)\n"
   ]
  },
  {
   "attachments": {},
   "cell_type": "markdown",
   "metadata": {},
   "source": [
    "In addition to the above code, ChatGPT also provides the following explanation:\n",
    "\n",
    "> This code first imports the pandas library, which provides tools for working with data in Python. It then uses the read_csv function from pandas to download and read a CSV file containing COVID-19 data from a remote URL.\n",
    ">\n",
    "> Next, the code uses the head method from pandas to print the first few rows of the dataset to the screen, and then uses the sum method to calculate the total number of confirmed cases, deaths, and recoveries in the dataset.\n",
    "> \n",
    "> Finally, the code uses the groupby and mean methods to group the data by country and calculate the average number of confirmed cases, deaths, and recoveries for each country.\n",
    ">\n",
    "> I hope this example helps you see how Python can be used to import and analyze data from a remote source. If you have any further questions or would like more information, please don't hesitate to ask.\n",
    "\n",
    "The explanations seem useful, but what if our user (who we assume to have zero knowledge of Python) is still unclear about something ChatGPT says (e.g what a method is, for example)?\n",
    "\n",
    "**User Prompt**\n",
    "\n",
    "> I am not sure what a method is in Python. Please can you explain this further?\n",
    "\n",
    "**ChatGPT Response**\n",
    "\n",
    "> In Python, a method is a function that is associated with an object. When you call a method on an object, it performs some operation on that object and may return a result. For example, the head method that is used in the code example above is a method of the DataFrame class from the pandas library. When you call this method on a DataFrame object, it returns the first few rows of the data in that DataFrame.\n",
    ">\n",
    "> Here is an example of how you might use the head method in your own code:\n",
    ">\n",
    "> ```python\n",
    "> # Import the pandas library.\n",
    "> import pandas as pd\n",
    ">\n",
    "> # Use the `read_csv` function from the pandas library to\n",
    "> # read a CSV (comma-separated values) file from a\n",
    "> # remote URL.\n",
    "> url = \"https://raw.githubusercontent.com/datasets/covid-19/master/data/countries-aggregated.csv\"\n",
    "> data = pd.read_csv(url)\n",
    "> \n",
    "> # Print the first 5 rows of the dataset to the screen,\n",
    "> # using the `head` method.\n",
    "> print(data.head(5))\n",
    "> ```\n",
    "> \n",
    "> In this code, the head method is called on the data object, which is a DataFrame containing the COVID-19 data that was downloaded from the URL. This method call returns the first 5 rows of the DataFrame, which are then printed to the screen using the print function.\n",
    "> \n",
    "> I hope this helps clarify what a method is in Python. If you have any further questions or would like more information, please don't hesitate to ask."
   ]
  }
 ],
 "metadata": {
  "kernelspec": {
   "display_name": "openai-playground",
   "language": "python",
   "name": "python3"
  },
  "language_info": {
   "codemirror_mode": {
    "name": "ipython",
    "version": 3
   },
   "file_extension": ".py",
   "mimetype": "text/x-python",
   "name": "python",
   "nbconvert_exporter": "python",
   "pygments_lexer": "ipython3",
   "version": "3.9.15"
  },
  "orig_nbformat": 4,
  "vscode": {
   "interpreter": {
    "hash": "152635bc791446475258ac3dbf6133d9748f3ea43c168fda0b3e0cfe3df20413"
   }
  }
 },
 "nbformat": 4,
 "nbformat_minor": 2
}